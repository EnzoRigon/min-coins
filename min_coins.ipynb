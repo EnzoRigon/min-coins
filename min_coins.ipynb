{
 "cells": [
  {
   "cell_type": "code",
   "execution_count": 2,
   "metadata": {},
   "outputs": [
    {
     "name": "stdout",
     "output_type": "stream",
     "text": [
      "Requirement already satisfied: matplotlib in /Library/Frameworks/Python.framework/Versions/3.11/lib/python3.11/site-packages (3.8.1)\n",
      "Requirement already satisfied: contourpy>=1.0.1 in /Library/Frameworks/Python.framework/Versions/3.11/lib/python3.11/site-packages (from matplotlib) (1.2.0)\n",
      "Requirement already satisfied: cycler>=0.10 in /Library/Frameworks/Python.framework/Versions/3.11/lib/python3.11/site-packages (from matplotlib) (0.12.1)\n",
      "Requirement already satisfied: fonttools>=4.22.0 in /Library/Frameworks/Python.framework/Versions/3.11/lib/python3.11/site-packages (from matplotlib) (4.44.1)\n",
      "Requirement already satisfied: kiwisolver>=1.3.1 in /Library/Frameworks/Python.framework/Versions/3.11/lib/python3.11/site-packages (from matplotlib) (1.4.5)\n",
      "Requirement already satisfied: numpy<2,>=1.21 in /Library/Frameworks/Python.framework/Versions/3.11/lib/python3.11/site-packages (from matplotlib) (1.26.2)\n",
      "Requirement already satisfied: packaging>=20.0 in /Users/enzoporto/Library/Python/3.11/lib/python/site-packages (from matplotlib) (23.2)\n",
      "Requirement already satisfied: pillow>=8 in /Library/Frameworks/Python.framework/Versions/3.11/lib/python3.11/site-packages (from matplotlib) (10.1.0)\n",
      "Requirement already satisfied: pyparsing>=2.3.1 in /Library/Frameworks/Python.framework/Versions/3.11/lib/python3.11/site-packages (from matplotlib) (3.1.1)\n",
      "Requirement already satisfied: python-dateutil>=2.7 in /Users/enzoporto/Library/Python/3.11/lib/python/site-packages (from matplotlib) (2.8.2)\n",
      "Requirement already satisfied: six>=1.5 in /Users/enzoporto/Library/Python/3.11/lib/python/site-packages (from python-dateutil>=2.7->matplotlib) (1.16.0)\n",
      "\n",
      "\u001b[1m[\u001b[0m\u001b[34;49mnotice\u001b[0m\u001b[1;39;49m]\u001b[0m\u001b[39;49m A new release of pip available: \u001b[0m\u001b[31;49m22.3.1\u001b[0m\u001b[39;49m -> \u001b[0m\u001b[32;49m23.3.1\u001b[0m\n",
      "\u001b[1m[\u001b[0m\u001b[34;49mnotice\u001b[0m\u001b[1;39;49m]\u001b[0m\u001b[39;49m To update, run: \u001b[0m\u001b[32;49mpip3.11 install --upgrade pip\u001b[0m\n",
      "Note: you may need to restart the kernel to use updated packages.\n"
     ]
    }
   ],
   "source": [
    "%pip install matplotlib"
   ]
  },
  {
   "cell_type": "code",
   "execution_count": 3,
   "metadata": {},
   "outputs": [],
   "source": [
    "import matplotlib.pyplot as plt\n",
    "import sys\n",
    "import time \n",
    "\n",
    "def min_coins(coins, m, V):\n",
    "    if (V == 0):\n",
    "        return 0\n",
    "\n",
    "    res = sys.maxsize\n",
    "    for i in range(0, m):\n",
    "        if (coins[i] <= V):\n",
    "            sub_res = min_coins(coins, m, V-coins[i])\n",
    "\n",
    "            if (sub_res != sys.maxsize and sub_res + 1 < res):\n",
    "                res = sub_res + 1\n",
    "    return res\n",
    "\n",
    "\n",
    "def min_coins_top_down(coins, m, V, dp):\n",
    "    if V == 0:\n",
    "        return 0\n",
    "    if dp[V] != -1:\n",
    "        return dp[V]\n",
    "\n",
    "    res = sys.maxsize\n",
    "\n",
    "    for i in range(m):\n",
    "        if coins[i] <= V:\n",
    "            sub_res = min_coins_top_down(coins, m, V - coins[i], dp)\n",
    "\n",
    "            if sub_res != sys.maxsize and sub_res + 1 < res:\n",
    "                res = sub_res + 1\n",
    "    dp[V] = res\n",
    "    return res\n",
    "\n",
    "\n",
    "def solve_min_coins_top_down(coins, m, V):\n",
    "    dp = [-1] * (V + 1)\n",
    "    return min_coins_top_down(coins, m, V, dp)\n",
    "\n",
    "\n",
    "def min_coins_bottom_up(coins, m, V):\n",
    "    table = [0 for i in range(V + 1)]\n",
    "    table[0] = 0\n",
    "    for i in range(1, V + 1):\n",
    "        table[i] = sys.maxsize\n",
    "    for i in range(1, V + 1):         \n",
    "        for j in range(m):\n",
    "            if (coins[j] <= i):\n",
    "                sub_res = table[i - coins[j]]\n",
    "                if (sub_res != sys.maxsize and\n",
    "                    sub_res + 1 < table[i]):\n",
    "                    table[i] = sub_res + 1\n",
    "\n",
    "    if table[V] == sys.maxsize:\n",
    "        return -1\n",
    "\n",
    "    return table[V]\n",
    "\n",
    "\n",
    "def get_time(function, coins, m, value):\n",
    "    start = time.time()\n",
    "    if function == 1:\n",
    "        min_coins(coins, m, value)\n",
    "    elif function == 2:\n",
    "        solve_min_coins_top_down(coins, m, value)\n",
    "    else:\n",
    "        min_coins_bottom_up(coins, m, value)\n",
    "\n",
    "    end = time.time()\n",
    "    elapsed_time = end - start\n",
    "    print(elapsed_time)\n",
    "    return elapsed_time\n"
   ]
  },
  {
   "cell_type": "code",
   "execution_count": 6,
   "metadata": {},
   "outputs": [
    {
     "name": "stdout",
     "output_type": "stream",
     "text": [
      "0.00016427040100097656\n",
      "0.005410909652709961\n",
      "0.14035296440124512\n",
      "5.409840822219849\n",
      "218.10979676246643\n",
      "5.602836608886719e-05\n",
      "3.218650817871094e-05\n",
      "2.9087066650390625e-05\n",
      "4.1961669921875e-05\n",
      "4.410743713378906e-05\n",
      "1.7881393432617188e-05\n",
      "1.811981201171875e-05\n",
      "2.8133392333984375e-05\n",
      "3.0279159545898438e-05\n",
      "4.029273986816406e-05\n"
     ]
    }
   ],
   "source": [
    "coins = [9, 6, 5, 1]\n",
    "m = len(coins)\n",
    "\n",
    "valores = [15, 25, 35, 45, 55]\n",
    "\n",
    "y_base = [\n",
    "    get_time(1, coins, m, 15), \n",
    "    get_time(1, coins, m, 25), \n",
    "    get_time(1, coins, m, 35), \n",
    "    get_time(1, coins, m, 45), \n",
    "    get_time(1, coins, m, 55)\n",
    "]\n",
    "\n",
    "y_top_down = [\n",
    "    get_time(2, coins, m, 15), \n",
    "    get_time(2, coins, m, 25), \n",
    "    get_time(2, coins, m, 35), \n",
    "    get_time(2, coins, m, 45), \n",
    "    get_time(2, coins, m, 55)\n",
    "]  \n",
    "\n",
    "y_bottom_up = [\n",
    "    get_time(3, coins, m, 15), \n",
    "    get_time(3, coins, m, 25), \n",
    "    get_time(3, coins, m, 35), \n",
    "    get_time(3, coins, m, 45), \n",
    "    get_time(3, coins, m, 55)\n",
    "] "
   ]
  },
  {
   "cell_type": "code",
   "execution_count": 5,
   "metadata": {},
   "outputs": [
    {
     "data": {
      "image/png": "[encoded data removed]",
      "text/plain": [
       "<Figure size 640x480 with 1 Axes>"
      ]
     },
     "metadata": {},
     "output_type": "display_data"
    }
   ],
   "source": [
    "plt.plot(valores, y_base, label='Base', linestyle='-', color='black')\n",
    "plt.plot(valores, y_top_down, label='Top-Down', marker='o', linestyle='--', color='blue')\n",
    "plt.plot(valores, y_bottom_up, label='Bottom-Up', marker='x', linestyle='-', color='green')\n",
    "\n",
    "plt.xlabel('Valor')\n",
    "plt.ylabel('Tempo (segundos)')\n",
    "plt.title('Comparação de performance do algoritmo Troco Mínimo')\n",
    "\n",
    "plt.legend()\n",
    "\n",
    "# Exibir o gráfico\n",
    "plt.show()\n"
   ]
  }
 ],
 "metadata": {
  "kernelspec": {
   "display_name": "Python 3",
   "language": "python",
   "name": "python3"
  },
  "language_info": {
   "codemirror_mode": {
    "name": "ipython",
    "version": 3
   },
   "file_extension": ".py",
   "mimetype": "text/x-python",
   "name": "python",
   "nbconvert_exporter": "python",
   "pygments_lexer": "ipython3",
   "version": "3.11.2"
  }
 },
 "nbformat": 4,
 "nbformat_minor": 2
}
